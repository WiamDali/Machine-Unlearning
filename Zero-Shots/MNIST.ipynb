{
 "cells": [
  {
   "cell_type": "code",
   "execution_count": 1,
   "id": "4d4abd23",
   "metadata": {},
   "outputs": [
    {
     "data": {
      "text/plain": [
       "<torch._C.Generator at 0x7ffeaaef6070>"
      ]
     },
     "execution_count": 1,
     "metadata": {},
     "output_type": "execute_result"
    }
   ],
   "source": [
    "# Necessary Imports\n",
    "import os\n",
    "import torch\n",
    "import torchvision\n",
    "import tarfile\n",
    "import torch.nn as nn\n",
    "import numpy as np\n",
    "from torch.utils.data import DataLoader\n",
    "import matplotlib\n",
    "import matplotlib.pyplot as plt\n",
    "import pandas as pd\n",
    "\n",
    "from datasets import mnist\n",
    "from utils import *\n",
    "from models import AllCNN\n",
    "from metrics import *\n",
    "from unlearn import *\n",
    "\n",
    "torch.manual_seed(100)"
   ]
  },
  {
   "cell_type": "code",
   "execution_count": 2,
   "id": "29a1c4dd",
   "metadata": {},
   "outputs": [],
   "source": [
    "train_ds, valid_ds = mnist()\n",
    "\n",
    "batch_size = 256\n",
    "train_dl = DataLoader(train_ds, batch_size, shuffle=True, num_workers=16)\n",
    "valid_dl = DataLoader(valid_ds, batch_size, num_workers=16)"
   ]
  },
  {
   "cell_type": "code",
   "execution_count": 3,
   "id": "60d16785",
   "metadata": {},
   "outputs": [],
   "source": [
    "num_classes = 10\n",
    "classwise_train = {}\n",
    "for i in range(num_classes):\n",
    "    classwise_train[i] = []\n",
    "\n",
    "for img, label in train_ds:\n",
    "    classwise_train[label].append((img, label))\n",
    "    \n",
    "classwise_test = {}\n",
    "for i in range(num_classes):\n",
    "    classwise_test[i] = []\n",
    "\n",
    "for img, label in valid_ds:\n",
    "    classwise_test[label].append((img, label))"
   ]
  },
  {
   "cell_type": "code",
   "execution_count": 4,
   "id": "8f5251c5",
   "metadata": {},
   "outputs": [],
   "source": [
    "device = 'cuda'"
   ]
  },
  {
   "cell_type": "code",
   "execution_count": 5,
   "id": "014642a5",
   "metadata": {},
   "outputs": [],
   "source": [
    "model = AllCNN(n_channels = 1).to(device = device)"
   ]
  },
  {
   "cell_type": "markdown",
   "id": "0e2b8ed9",
   "metadata": {},
   "source": [
    "## Creating the fully trained model"
   ]
  },
  {
   "cell_type": "code",
   "execution_count": 6,
   "id": "561f8c1f",
   "metadata": {},
   "outputs": [],
   "source": [
    "epochs = 25\n",
    "max_lr = 0.01\n",
    "grad_clip = 0.1\n",
    "weight_decay = 1e-4\n",
    "opt_func = torch.optim.Adam"
   ]
  },
  {
   "cell_type": "code",
   "execution_count": null,
   "id": "b99f3cc9",
   "metadata": {},
   "outputs": [],
   "source": [
    "%%time\n",
    "history = fit_one_cycle(epochs, max_lr, model, train_dl, valid_dl, \n",
    "                             grad_clip=grad_clip, \n",
    "                             weight_decay=weight_decay, \n",
    "                             opt_func=opt_func, device = device)\n",
    "torch.save(model.state_dict(), \"AllCNN_MNIST_ALL_CLASSES.pt\")"
   ]
  },
  {
   "cell_type": "code",
   "execution_count": 7,
   "id": "a700c101",
   "metadata": {},
   "outputs": [
    {
     "data": {
      "text/plain": [
       "[{'Loss': 0.019072750583291054, 'Acc': 0.993945300579071}]"
      ]
     },
     "execution_count": 7,
     "metadata": {},
     "output_type": "execute_result"
    }
   ],
   "source": [
    "model.load_state_dict(torch.load(\"AllCNN_MNIST_ALL_CLASSES.pt\"))\n",
    "history = [evaluate(model, valid_dl, device = device)]\n",
    "history"
   ]
  },
  {
   "cell_type": "markdown",
   "id": "cf3290a3",
   "metadata": {},
   "source": [
    "## Forgetting Class 0 using GKT"
   ]
  },
  {
   "cell_type": "code",
   "execution_count": 8,
   "id": "38d0ecfd",
   "metadata": {},
   "outputs": [],
   "source": [
    "# Getting the forget and retain data\n",
    "forget_valid = []\n",
    "forget_classes = [0]\n",
    "for cls in range(num_classes):\n",
    "    if cls in forget_classes:\n",
    "        for img, label in classwise_test[cls]:\n",
    "            forget_valid.append((img, label))\n",
    "\n",
    "retain_valid = []\n",
    "for cls in range(num_classes):\n",
    "    if cls not in forget_classes:\n",
    "        for img, label in classwise_test[cls]:\n",
    "            retain_valid.append((img, label))\n",
    "\n",
    "forget_valid_dl = DataLoader(forget_valid, batch_size, num_workers=3, pin_memory=True)\n",
    "\n",
    "retain_valid_dl = DataLoader(retain_valid, batch_size, num_workers=3, pin_memory=True)"
   ]
  },
  {
   "cell_type": "code",
   "execution_count": 15,
   "id": "0967c99c",
   "metadata": {},
   "outputs": [
    {
     "name": "stdout",
     "output_type": "stream",
     "text": [
      "ERROR! Session/line number was not unique in database. History logging moved to new session 2976\n"
     ]
    }
   ],
   "source": [
    "n_generator_iter = 1\n",
    "n_student_iter = 10\n",
    "n_repeat_batch = n_generator_iter + n_student_iter"
   ]
  },
  {
   "cell_type": "code",
   "execution_count": 22,
   "id": "b240f924",
   "metadata": {},
   "outputs": [],
   "source": [
    "model = AllCNN(n_channels = 1).to(device = device)\n",
    "model.load_state_dict(torch.load(\"AllCNN_MNIST_ALL_CLASSES.pt\"))\n",
    "\n",
    "student = AllCNN(n_channels = 1).to(device = device)\n",
    "generator = LearnableLoader(n_repeat_batch=n_repeat_batch, num_channels = 1, device = device).to(device=device)\n",
    "optimizer_generator = torch.optim.Adam(generator.parameters(), lr=0.001) \n",
    "scheduler_generator = torch.optim.lr_scheduler.ReduceLROnPlateau(optimizer_generator, \n",
    "                                                               mode='min', factor=0.5, patience=2, verbose=True)\n",
    "optimizer_student = torch.optim.Adam(student.parameters(), lr=0.001)\n",
    "scheduler_s-tudent = torch.optim.lr_scheduler.ReduceLROnPlateau(optimizer_student, \\\n",
    "                                    mode='min', factor=0.5, patience=2, verbose=True)"
   ]
  },
  {
   "cell_type": "code",
   "execution_count": 23,
   "id": "df0eca9d",
   "metadata": {},
   "outputs": [
    {
     "name": "stdout",
     "output_type": "stream",
     "text": [
      "Performance of Fully Trained Model on Forget Class\n",
      "Accuracy: 99.51171875\n",
      "Loss: 0.01288334745913744\n",
      "Performance of Fully Trained Model on Retain Class\n",
      "Accuracy: 99.34606552124023\n",
      "Loss: 0.02070627547800541\n"
     ]
    }
   ],
   "source": [
    "print(\"Performance of Fully Trained Model on Forget Class\")\n",
    "history = [evaluate(model, forget_valid_dl, device = device)]\n",
    "print(\"Accuracy: {}\".format(history[0][\"Acc\"]*100))\n",
    "print(\"Loss: {}\".format(history[0][\"Loss\"]))\n",
    "\n",
    "print(\"Performance of Fully Trained Model on Retain Class\")\n",
    "history = [evaluate(model, retain_valid_dl, device = device)]\n",
    "print(\"Accuracy: {}\".format(history[0][\"Acc\"]*100))\n",
    "print(\"Loss: {}\".format(history[0][\"Loss\"]))\n",
    "\n",
    "\n",
    "history = [evaluate(student, forget_valid_dl, device = device)]\n",
    "AccForget = history[0][\"Acc\"]*100\n",
    "ErrForget = history[0][\"Loss\"]\n",
    "\n",
    "history = [evaluate(student, retain_valid_dl, device = device)]\n",
    "AccRetain = history[0][\"Acc\"]*100\n",
    "ErrRetain = history[0][\"Loss\"]"
   ]
  },
  {
   "cell_type": "code",
   "execution_count": 24,
   "id": "87dcf320",
   "metadata": {},
   "outputs": [],
   "source": [
    "generator_path = \"./ckpts/mnist_allcnn/generator\"\n",
    "student_path = \"./ckpts/mnist_allcnn/student\"\n",
    "\n",
    "#os.makedirs(generator_path)\n",
    "#os.makedirs(student_path)\n",
    "\n",
    "idx_pseudo = 0\n",
    "total_n_pseudo_batches = 4000\n",
    "n_pseudo_batches = 0\n",
    "running_gen_loss = []\n",
    "running_stu_loss = []\n",
    "\n",
    "threshold = 0.01"
   ]
  },
  {
   "cell_type": "code",
   "execution_count": 25,
   "id": "7d000803",
   "metadata": {},
   "outputs": [],
   "source": [
    "import warnings\n",
    "warnings.filterwarnings(\"ignore\")"
   ]
  },
  {
   "cell_type": "markdown",
   "id": "0d734c4d",
   "metadata": {},
   "source": [
    "### Training the unlearned model"
   ]
  },
  {
   "cell_type": "code",
   "execution_count": 26,
   "id": "554e8757",
   "metadata": {},
   "outputs": [],
   "source": [
    "KL_temperature = 1\n",
    "AT_beta = 250"
   ]
  },
  {
   "cell_type": "code",
   "execution_count": null,
   "id": "4a22335d",
   "metadata": {},
   "outputs": [],
   "source": [
    "history_forget = [evaluate(student, forget_valid_dl, device = device)]\n",
    "AccForget = history_forget[0][\"Acc\"]*100\n",
    "ErrForget = history_forget[0][\"Loss\"]\n",
    "\n",
    "history_retain = [evaluate(student, retain_valid_dl, device = device)]\n",
    "AccRetain = history_retain[0][\"Acc\"]*100\n",
    "ErrRetain = history_retain[0][\"Loss\"]\n",
    "\n",
    "df = pd.DataFrame(columns = [\"Epochs\", \"AccForget\", \"AccRetain\", \"ErrForget\", \"ErrRetain\", \"MeanGeneratorLoss\", \"MeanStudentLoss\"])\n",
    "df = df.append({\"Epochs\":0, \"AccForget\":AccForget, \"AccRetain\":AccRetain, \"ErrForget\":ErrForget, \n",
    "                \"ErrRetain\":ErrRetain, \"MeanGeneratorLoss\":None, \"MeanStudentLoss\":None}, ignore_index = True)\n",
    "\n",
    "# saving the generator\n",
    "torch.save(generator.state_dict(), os.path.join(generator_path, str(0) + \".pt\"))\n",
    "\n",
    "# saving the student\n",
    "torch.save(student.state_dict(), os.path.join(student_path, str(0) + \".pt\"))\n",
    "\n",
    "\n",
    "\n",
    "\n",
    "while n_pseudo_batches < total_n_pseudo_batches:\n",
    "    x_pseudo = generator.__next__()\n",
    "    preds, *_ = model(x_pseudo)\n",
    "    mask = (torch.softmax(preds.detach(), dim=1)[:, 0] <= threshold)\n",
    "    x_pseudo = x_pseudo[mask]\n",
    "    if x_pseudo.size(0) == 0:\n",
    "        zero_count += 1\n",
    "        if zero_count > 100:\n",
    "            print(\"Generator Stopped Producing datapoints corresponding to retain classes.\")\n",
    "            print(\"Resetting the generator to previous checkpoint\")\n",
    "            generator.load_state_dict(torch.load(os.path.join(generator_path, str(((n_pseudo_batches//50)-1)*50) + \".pt\")))\n",
    "        continue\n",
    "    else:\n",
    "        zero_count = 0\n",
    "    \n",
    "    ## Take n_generator_iter steps on generator\n",
    "    if idx_pseudo % n_repeat_batch < n_generator_iter:\n",
    "        student_logits, *student_activations = student(x_pseudo)\n",
    "        teacher_logits, *teacher_activations = model(x_pseudo)\n",
    "        generator_total_loss = KT_loss_generator(student_logits, teacher_logits, KL_temperature=KL_temperature)\n",
    "\n",
    "        optimizer_generator.zero_grad()\n",
    "        generator_total_loss.backward()\n",
    "        torch.nn.utils.clip_grad_norm_(generator.parameters(), 5)\n",
    "        optimizer_generator.step()\n",
    "        running_gen_loss.append(generator_total_loss.cpu().detach())\n",
    "\n",
    "\n",
    "    elif idx_pseudo % n_repeat_batch < (n_generator_iter + n_student_iter):\n",
    "        \n",
    "        \n",
    "        with torch.no_grad():\n",
    "            teacher_logits, *teacher_activations = model(x_pseudo)\n",
    "\n",
    "        student_logits, *student_activations = student(x_pseudo)\n",
    "        student_total_loss = KT_loss_student(student_logits, student_activations, \n",
    "                                             teacher_logits, teacher_activations, \n",
    "                                             KL_temperature=KL_temperature, AT_beta = AT_beta)\n",
    "\n",
    "        optimizer_student.zero_grad()\n",
    "        student_total_loss.backward()\n",
    "        torch.nn.utils.clip_grad_norm_(student.parameters(), 5)\n",
    "        optimizer_student.step()\n",
    "        running_stu_loss.append(student_total_loss.cpu().detach())\n",
    "        \n",
    "    if (idx_pseudo + 1) % n_repeat_batch == 0:       \n",
    "        if((n_pseudo_batches)% 50 == 0):\n",
    "            MeanGLoss = np.mean(running_gen_loss)\n",
    "            running_gen_loss = []\n",
    "            MeanSLoss = np.mean(running_stu_loss)\n",
    "            running_stu_loss = []\n",
    "            \n",
    "            history_forget = [evaluate(student, forget_valid_dl, device = device)]\n",
    "            AccForget = history_forget[0][\"Acc\"]*100\n",
    "            ErrForget = history_forget[0][\"Loss\"]\n",
    "\n",
    "            history_retain = [evaluate(student, retain_valid_dl, device = device)]\n",
    "            AccRetain = history_retain[0][\"Acc\"]*100\n",
    "            ErrRetain = history_retain[0][\"Loss\"]\n",
    "            \n",
    "            df = df.append({\"Epochs\":n_pseudo_batches, \"AccForget\":AccForget, \"AccRetain\":AccRetain, \"ErrForget\":ErrForget, \n",
    "                            \"ErrRetain\":ErrRetain, \"MeanGeneratorLoss\":MeanGLoss, \"MeanStudentLoss\":MeanSLoss}, ignore_index = True)\n",
    "            print(df.iloc[-1:])\n",
    "            scheduler_student.step(history_retain[0][\"Loss\"])\n",
    "            scheduler_generator.step(history[0][\"Loss\"])\n",
    "            \n",
    "            # saving the generator\n",
    "            torch.save(generator.state_dict(), os.path.join(generator_path, str(n_pseudo_batches) + \".pt\"))\n",
    "            \n",
    "            # saving the student\n",
    "            torch.save(student.state_dict(), os.path.join(student_path, str(n_pseudo_batches) + \".pt\"))\n",
    "            \n",
    "            \n",
    "        n_pseudo_batches += 1\n",
    "        \n",
    "    idx_pseudo += 1"
   ]
  },
  {
   "cell_type": "code",
   "execution_count": 29,
   "id": "4dd1b319",
   "metadata": {},
   "outputs": [
    {
     "data": {
      "text/html": [
       "<div>\n",
       "<style scoped>\n",
       "    .dataframe tbody tr th:only-of-type {\n",
       "        vertical-align: middle;\n",
       "    }\n",
       "\n",
       "    .dataframe tbody tr th {\n",
       "        vertical-align: top;\n",
       "    }\n",
       "\n",
       "    .dataframe thead th {\n",
       "        text-align: right;\n",
       "    }\n",
       "</style>\n",
       "<table border=\"1\" class=\"dataframe\">\n",
       "  <thead>\n",
       "    <tr style=\"text-align: right;\">\n",
       "      <th></th>\n",
       "      <th>Epochs</th>\n",
       "      <th>AccForget</th>\n",
       "      <th>AccRetain</th>\n",
       "      <th>ErrForget</th>\n",
       "      <th>ErrRetain</th>\n",
       "      <th>MeanGeneratorLoss</th>\n",
       "      <th>MeanStudentLoss</th>\n",
       "    </tr>\n",
       "  </thead>\n",
       "  <tbody>\n",
       "    <tr>\n",
       "      <th>10</th>\n",
       "      <td>450.0</td>\n",
       "      <td>0.000000</td>\n",
       "      <td>85.448492</td>\n",
       "      <td>4.841099</td>\n",
       "      <td>0.643373</td>\n",
       "      <td>-0.009583</td>\n",
       "      <td>0.074831</td>\n",
       "    </tr>\n",
       "    <tr>\n",
       "      <th>11</th>\n",
       "      <td>500.0</td>\n",
       "      <td>0.000000</td>\n",
       "      <td>85.304540</td>\n",
       "      <td>5.045340</td>\n",
       "      <td>0.682012</td>\n",
       "      <td>-0.013167</td>\n",
       "      <td>0.086326</td>\n",
       "    </tr>\n",
       "    <tr>\n",
       "      <th>12</th>\n",
       "      <td>550.0</td>\n",
       "      <td>0.000000</td>\n",
       "      <td>86.072773</td>\n",
       "      <td>4.507913</td>\n",
       "      <td>0.471898</td>\n",
       "      <td>-0.006274</td>\n",
       "      <td>0.052073</td>\n",
       "    </tr>\n",
       "    <tr>\n",
       "      <th>13</th>\n",
       "      <td>600.0</td>\n",
       "      <td>0.000000</td>\n",
       "      <td>87.008828</td>\n",
       "      <td>4.114470</td>\n",
       "      <td>0.287021</td>\n",
       "      <td>-0.007687</td>\n",
       "      <td>0.060969</td>\n",
       "    </tr>\n",
       "    <tr>\n",
       "      <th>14</th>\n",
       "      <td>650.0</td>\n",
       "      <td>0.000000</td>\n",
       "      <td>88.532990</td>\n",
       "      <td>3.570807</td>\n",
       "      <td>0.226169</td>\n",
       "      <td>-0.006062</td>\n",
       "      <td>0.046331</td>\n",
       "    </tr>\n",
       "    <tr>\n",
       "      <th>15</th>\n",
       "      <td>700.0</td>\n",
       "      <td>0.000000</td>\n",
       "      <td>89.653504</td>\n",
       "      <td>3.301095</td>\n",
       "      <td>0.201094</td>\n",
       "      <td>-0.009921</td>\n",
       "      <td>0.066714</td>\n",
       "    </tr>\n",
       "    <tr>\n",
       "      <th>16</th>\n",
       "      <td>750.0</td>\n",
       "      <td>0.000000</td>\n",
       "      <td>94.767070</td>\n",
       "      <td>2.407107</td>\n",
       "      <td>0.121586</td>\n",
       "      <td>-0.006688</td>\n",
       "      <td>0.041866</td>\n",
       "    </tr>\n",
       "    <tr>\n",
       "      <th>17</th>\n",
       "      <td>800.0</td>\n",
       "      <td>6.025206</td>\n",
       "      <td>98.412907</td>\n",
       "      <td>2.027194</td>\n",
       "      <td>0.067476</td>\n",
       "      <td>-0.008076</td>\n",
       "      <td>0.059766</td>\n",
       "    </tr>\n",
       "    <tr>\n",
       "      <th>18</th>\n",
       "      <td>850.0</td>\n",
       "      <td>53.303730</td>\n",
       "      <td>98.792678</td>\n",
       "      <td>1.357714</td>\n",
       "      <td>0.050143</td>\n",
       "      <td>-0.004267</td>\n",
       "      <td>0.028618</td>\n",
       "    </tr>\n",
       "    <tr>\n",
       "      <th>19</th>\n",
       "      <td>900.0</td>\n",
       "      <td>76.265848</td>\n",
       "      <td>98.814380</td>\n",
       "      <td>0.936303</td>\n",
       "      <td>0.046060</td>\n",
       "      <td>-0.004487</td>\n",
       "      <td>0.034179</td>\n",
       "    </tr>\n",
       "  </tbody>\n",
       "</table>\n",
       "</div>"
      ],
      "text/plain": [
       "    Epochs  AccForget  AccRetain  ErrForget  ErrRetain  MeanGeneratorLoss  \\\n",
       "10   450.0   0.000000  85.448492   4.841099   0.643373          -0.009583   \n",
       "11   500.0   0.000000  85.304540   5.045340   0.682012          -0.013167   \n",
       "12   550.0   0.000000  86.072773   4.507913   0.471898          -0.006274   \n",
       "13   600.0   0.000000  87.008828   4.114470   0.287021          -0.007687   \n",
       "14   650.0   0.000000  88.532990   3.570807   0.226169          -0.006062   \n",
       "15   700.0   0.000000  89.653504   3.301095   0.201094          -0.009921   \n",
       "16   750.0   0.000000  94.767070   2.407107   0.121586          -0.006688   \n",
       "17   800.0   6.025206  98.412907   2.027194   0.067476          -0.008076   \n",
       "18   850.0  53.303730  98.792678   1.357714   0.050143          -0.004267   \n",
       "19   900.0  76.265848  98.814380   0.936303   0.046060          -0.004487   \n",
       "\n",
       "    MeanStudentLoss  \n",
       "10         0.074831  \n",
       "11         0.086326  \n",
       "12         0.052073  \n",
       "13         0.060969  \n",
       "14         0.046331  \n",
       "15         0.066714  \n",
       "16         0.041866  \n",
       "17         0.059766  \n",
       "18         0.028618  \n",
       "19         0.034179  "
      ]
     },
     "execution_count": 29,
     "metadata": {},
     "output_type": "execute_result"
    }
   ],
   "source": [
    "df.iloc[10:20]"
   ]
  },
  {
   "cell_type": "code",
   "execution_count": 30,
   "id": "3ebb64d9",
   "metadata": {},
   "outputs": [],
   "source": [
    "df.to_csv(\"MNIST_ALLCNN.csv\", index = False)"
   ]
  },
  {
   "cell_type": "code",
   "execution_count": null,
   "id": "e3e9dbc3",
   "metadata": {},
   "outputs": [],
   "source": []
  }
 ],
 "metadata": {
  "kernelspec": {
   "display_name": "Python 3",
   "language": "python",
   "name": "python3"
  },
  "language_info": {
   "codemirror_mode": {
    "name": "ipython",
    "version": 3
   },
   "file_extension": ".py",
   "mimetype": "text/x-python",
   "name": "python",
   "nbconvert_exporter": "python",
   "pygments_lexer": "ipython3",
   "version": "3.7.7"
  }
 },
 "nbformat": 4,
 "nbformat_minor": 5
}
